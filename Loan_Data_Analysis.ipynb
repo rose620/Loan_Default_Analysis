{
 "cells": [
  {
   "cell_type": "code",
   "execution_count": 1,
   "metadata": {},
   "outputs": [],
   "source": [
    "#import all packages\n",
    "import pandas as pd\n",
    "import numpy as np\n",
    "import seaborn as sns\n",
    "import matplotlib.pyplot as plt\n",
    "%matplotlib inline\n",
    "import warnings\n",
    "warnings.filterwarnings('ignore')"
   ]
  },
  {
   "cell_type": "code",
   "execution_count": 2,
   "metadata": {},
   "outputs": [],
   "source": [
    "#read in data via pandas\n",
    "df = pd.read_csv('Loan payments data.csv')"
   ]
  },
  {
   "cell_type": "code",
   "execution_count": 3,
   "metadata": {},
   "outputs": [
    {
     "data": {
      "text/html": [
       "<div>\n",
       "<style scoped>\n",
       "    .dataframe tbody tr th:only-of-type {\n",
       "        vertical-align: middle;\n",
       "    }\n",
       "\n",
       "    .dataframe tbody tr th {\n",
       "        vertical-align: top;\n",
       "    }\n",
       "\n",
       "    .dataframe thead th {\n",
       "        text-align: right;\n",
       "    }\n",
       "</style>\n",
       "<table border=\"1\" class=\"dataframe\">\n",
       "  <thead>\n",
       "    <tr style=\"text-align: right;\">\n",
       "      <th></th>\n",
       "      <th>Loan_ID</th>\n",
       "      <th>loan_status</th>\n",
       "      <th>Principal</th>\n",
       "      <th>terms</th>\n",
       "      <th>effective_date</th>\n",
       "      <th>due_date</th>\n",
       "      <th>paid_off_time</th>\n",
       "      <th>past_due_days</th>\n",
       "      <th>age</th>\n",
       "      <th>education</th>\n",
       "      <th>Gender</th>\n",
       "    </tr>\n",
       "  </thead>\n",
       "  <tbody>\n",
       "    <tr>\n",
       "      <th>0</th>\n",
       "      <td>xqd20166231</td>\n",
       "      <td>PAIDOFF</td>\n",
       "      <td>1000</td>\n",
       "      <td>30</td>\n",
       "      <td>9/8/2016</td>\n",
       "      <td>10/7/2016</td>\n",
       "      <td>9/14/2016 19:31</td>\n",
       "      <td>NaN</td>\n",
       "      <td>45</td>\n",
       "      <td>High School or Below</td>\n",
       "      <td>male</td>\n",
       "    </tr>\n",
       "    <tr>\n",
       "      <th>1</th>\n",
       "      <td>xqd20168902</td>\n",
       "      <td>PAIDOFF</td>\n",
       "      <td>1000</td>\n",
       "      <td>30</td>\n",
       "      <td>9/8/2016</td>\n",
       "      <td>10/7/2016</td>\n",
       "      <td>10/7/2016 9:00</td>\n",
       "      <td>NaN</td>\n",
       "      <td>50</td>\n",
       "      <td>Bechalor</td>\n",
       "      <td>female</td>\n",
       "    </tr>\n",
       "    <tr>\n",
       "      <th>2</th>\n",
       "      <td>xqd20160003</td>\n",
       "      <td>PAIDOFF</td>\n",
       "      <td>1000</td>\n",
       "      <td>30</td>\n",
       "      <td>9/8/2016</td>\n",
       "      <td>10/7/2016</td>\n",
       "      <td>9/25/2016 16:58</td>\n",
       "      <td>NaN</td>\n",
       "      <td>33</td>\n",
       "      <td>Bechalor</td>\n",
       "      <td>female</td>\n",
       "    </tr>\n",
       "    <tr>\n",
       "      <th>3</th>\n",
       "      <td>xqd20160004</td>\n",
       "      <td>PAIDOFF</td>\n",
       "      <td>1000</td>\n",
       "      <td>15</td>\n",
       "      <td>9/8/2016</td>\n",
       "      <td>9/22/2016</td>\n",
       "      <td>9/22/2016 20:00</td>\n",
       "      <td>NaN</td>\n",
       "      <td>27</td>\n",
       "      <td>college</td>\n",
       "      <td>male</td>\n",
       "    </tr>\n",
       "    <tr>\n",
       "      <th>4</th>\n",
       "      <td>xqd20160005</td>\n",
       "      <td>PAIDOFF</td>\n",
       "      <td>1000</td>\n",
       "      <td>30</td>\n",
       "      <td>9/9/2016</td>\n",
       "      <td>10/8/2016</td>\n",
       "      <td>9/23/2016 21:36</td>\n",
       "      <td>NaN</td>\n",
       "      <td>28</td>\n",
       "      <td>college</td>\n",
       "      <td>female</td>\n",
       "    </tr>\n",
       "  </tbody>\n",
       "</table>\n",
       "</div>"
      ],
      "text/plain": [
       "       Loan_ID loan_status  Principal  terms effective_date   due_date  \\\n",
       "0  xqd20166231     PAIDOFF       1000     30       9/8/2016  10/7/2016   \n",
       "1  xqd20168902     PAIDOFF       1000     30       9/8/2016  10/7/2016   \n",
       "2  xqd20160003     PAIDOFF       1000     30       9/8/2016  10/7/2016   \n",
       "3  xqd20160004     PAIDOFF       1000     15       9/8/2016  9/22/2016   \n",
       "4  xqd20160005     PAIDOFF       1000     30       9/9/2016  10/8/2016   \n",
       "\n",
       "     paid_off_time  past_due_days  age             education  Gender  \n",
       "0  9/14/2016 19:31            NaN   45  High School or Below    male  \n",
       "1   10/7/2016 9:00            NaN   50              Bechalor  female  \n",
       "2  9/25/2016 16:58            NaN   33              Bechalor  female  \n",
       "3  9/22/2016 20:00            NaN   27               college    male  \n",
       "4  9/23/2016 21:36            NaN   28               college  female  "
      ]
     },
     "execution_count": 3,
     "metadata": {},
     "output_type": "execute_result"
    }
   ],
   "source": [
    "#take a look at dataframe \n",
    "df.head()"
   ]
  },
  {
   "cell_type": "code",
   "execution_count": 4,
   "metadata": {},
   "outputs": [
    {
     "data": {
      "text/plain": [
       "(500, 11)"
      ]
     },
     "execution_count": 4,
     "metadata": {},
     "output_type": "execute_result"
    }
   ],
   "source": [
    "#how mant columns and how amny rows\n",
    "df.shape"
   ]
  },
  {
   "cell_type": "code",
   "execution_count": 5,
   "metadata": {},
   "outputs": [
    {
     "name": "stdout",
     "output_type": "stream",
     "text": [
      "<class 'pandas.core.frame.DataFrame'>\n",
      "RangeIndex: 500 entries, 0 to 499\n",
      "Data columns (total 11 columns):\n",
      "Loan_ID           500 non-null object\n",
      "loan_status       500 non-null object\n",
      "Principal         500 non-null int64\n",
      "terms             500 non-null int64\n",
      "effective_date    500 non-null object\n",
      "due_date          500 non-null object\n",
      "paid_off_time     400 non-null object\n",
      "past_due_days     200 non-null float64\n",
      "age               500 non-null int64\n",
      "education         500 non-null object\n",
      "Gender            500 non-null object\n",
      "dtypes: float64(1), int64(3), object(7)\n",
      "memory usage: 43.0+ KB\n"
     ]
    }
   ],
   "source": [
    "#take a look at data type of dataframe\n",
    "df.info()"
   ]
  },
  {
   "cell_type": "code",
   "execution_count": 6,
   "metadata": {},
   "outputs": [
    {
     "data": {
      "text/html": [
       "<div>\n",
       "<style scoped>\n",
       "    .dataframe tbody tr th:only-of-type {\n",
       "        vertical-align: middle;\n",
       "    }\n",
       "\n",
       "    .dataframe tbody tr th {\n",
       "        vertical-align: top;\n",
       "    }\n",
       "\n",
       "    .dataframe thead th {\n",
       "        text-align: right;\n",
       "    }\n",
       "</style>\n",
       "<table border=\"1\" class=\"dataframe\">\n",
       "  <thead>\n",
       "    <tr style=\"text-align: right;\">\n",
       "      <th></th>\n",
       "      <th>Principal</th>\n",
       "      <th>terms</th>\n",
       "      <th>past_due_days</th>\n",
       "      <th>age</th>\n",
       "    </tr>\n",
       "  </thead>\n",
       "  <tbody>\n",
       "    <tr>\n",
       "      <th>count</th>\n",
       "      <td>500.000000</td>\n",
       "      <td>500.000000</td>\n",
       "      <td>200.00000</td>\n",
       "      <td>500.000000</td>\n",
       "    </tr>\n",
       "    <tr>\n",
       "      <th>mean</th>\n",
       "      <td>943.200000</td>\n",
       "      <td>22.824000</td>\n",
       "      <td>36.01000</td>\n",
       "      <td>31.116000</td>\n",
       "    </tr>\n",
       "    <tr>\n",
       "      <th>std</th>\n",
       "      <td>115.240274</td>\n",
       "      <td>8.000064</td>\n",
       "      <td>29.38088</td>\n",
       "      <td>6.084784</td>\n",
       "    </tr>\n",
       "    <tr>\n",
       "      <th>min</th>\n",
       "      <td>300.000000</td>\n",
       "      <td>7.000000</td>\n",
       "      <td>1.00000</td>\n",
       "      <td>18.000000</td>\n",
       "    </tr>\n",
       "    <tr>\n",
       "      <th>25%</th>\n",
       "      <td>1000.000000</td>\n",
       "      <td>15.000000</td>\n",
       "      <td>3.00000</td>\n",
       "      <td>27.000000</td>\n",
       "    </tr>\n",
       "    <tr>\n",
       "      <th>50%</th>\n",
       "      <td>1000.000000</td>\n",
       "      <td>30.000000</td>\n",
       "      <td>37.00000</td>\n",
       "      <td>30.000000</td>\n",
       "    </tr>\n",
       "    <tr>\n",
       "      <th>75%</th>\n",
       "      <td>1000.000000</td>\n",
       "      <td>30.000000</td>\n",
       "      <td>60.00000</td>\n",
       "      <td>35.000000</td>\n",
       "    </tr>\n",
       "    <tr>\n",
       "      <th>max</th>\n",
       "      <td>1000.000000</td>\n",
       "      <td>30.000000</td>\n",
       "      <td>76.00000</td>\n",
       "      <td>51.000000</td>\n",
       "    </tr>\n",
       "  </tbody>\n",
       "</table>\n",
       "</div>"
      ],
      "text/plain": [
       "         Principal       terms  past_due_days         age\n",
       "count   500.000000  500.000000      200.00000  500.000000\n",
       "mean    943.200000   22.824000       36.01000   31.116000\n",
       "std     115.240274    8.000064       29.38088    6.084784\n",
       "min     300.000000    7.000000        1.00000   18.000000\n",
       "25%    1000.000000   15.000000        3.00000   27.000000\n",
       "50%    1000.000000   30.000000       37.00000   30.000000\n",
       "75%    1000.000000   30.000000       60.00000   35.000000\n",
       "max    1000.000000   30.000000       76.00000   51.000000"
      ]
     },
     "execution_count": 6,
     "metadata": {},
     "output_type": "execute_result"
    }
   ],
   "source": [
    "#look at trends of data frame\n",
    "df.describe()"
   ]
  },
  {
   "cell_type": "markdown",
   "metadata": {},
   "source": [
    "### This indicates that the average age of the dataframe is 31, the average number of past due days is 36, the loan terms are from a min of 7 years to a max of 30 years with an average of 22 years.  The mean principal amount of the loan is 943 dollars with a min of 300 and a max of 1000 dollars.  This indicates that there are more people on the higher end of loans around 1000 dollars than there are at 300 dollars."
   ]
  },
  {
   "cell_type": "code",
   "execution_count": 7,
   "metadata": {},
   "outputs": [
    {
     "data": {
      "text/plain": [
       "Loan_ID             0\n",
       "loan_status         0\n",
       "Principal           0\n",
       "terms               0\n",
       "effective_date      0\n",
       "due_date            0\n",
       "paid_off_time     100\n",
       "past_due_days     300\n",
       "age                 0\n",
       "education           0\n",
       "Gender              0\n",
       "dtype: int64"
      ]
     },
     "execution_count": 7,
     "metadata": {},
     "output_type": "execute_result"
    }
   ],
   "source": [
    "#look for any missing data \n",
    "df.isnull().sum()"
   ]
  },
  {
   "cell_type": "code",
   "execution_count": 8,
   "metadata": {},
   "outputs": [
    {
     "data": {
      "text/plain": [
       "Loan_ID             0\n",
       "loan_status         0\n",
       "Principal           0\n",
       "terms               0\n",
       "effective_date      0\n",
       "due_date            0\n",
       "paid_off_time     100\n",
       "past_due_days       0\n",
       "age                 0\n",
       "education           0\n",
       "Gender              0\n",
       "dtype: int64"
      ]
     },
     "execution_count": 8,
     "metadata": {},
     "output_type": "execute_result"
    }
   ],
   "source": [
    "#fill in missing data for past due days with zero\n",
    "df.past_due_days.fillna(0, inplace=True)\n",
    "df.isnull().sum()"
   ]
  },
  {
   "cell_type": "code",
   "execution_count": 13,
   "metadata": {},
   "outputs": [
    {
     "data": {
      "text/plain": [
       "<matplotlib.axes._subplots.AxesSubplot at 0x21f558c4780>"
      ]
     },
     "execution_count": 13,
     "metadata": {},
     "output_type": "execute_result"
    },
    {
     "data": {
      "image/png": "[encoded data removed]",
      "text/plain": [
       "<Figure size 576x432 with 2 Axes>"
      ]
     },
     "metadata": {},
     "output_type": "display_data"
    }
   ],
   "source": [
    "#look for trends/correlations by plotting a correlation heatmap\n",
    "plt.subplots(figsize=(8,6))\n",
    "ax = plt.axes()\n",
    "ax.set_title(\"CORRELATION_HEAT_MAP\")\n",
    "corr = df.corr()\n",
    "sns.heatmap(corr, annot=True, xticklabels=corr.columns.values, yticklabels=corr.columns.values)"
   ]
  },
  {
   "cell_type": "markdown",
   "metadata": {},
   "source": [
    "### Some findings on the correlation heatmap is that the loan term and due_day are inversely correlated while the loan term and due_month are directly correlated. Term and Principal are also directly correlated so the larger the principal of the loan, the longer the term of the loan."
   ]
  },
  {
   "cell_type": "code",
   "execution_count": 14,
   "metadata": {},
   "outputs": [],
   "source": [
    "#300 to 399 has NaN while all other rows have past_due_days less than 59\n",
    "#current date shows 12/8/2016,create separate dataframe for non-paid loans/collections\n",
    "\n",
    "df_not_paid = df.iloc[300:400,:]"
   ]
  },
  {
   "cell_type": "code",
   "execution_count": 15,
   "metadata": {},
   "outputs": [
    {
     "data": {
      "text/html": [
       "<div>\n",
       "<style scoped>\n",
       "    .dataframe tbody tr th:only-of-type {\n",
       "        vertical-align: middle;\n",
       "    }\n",
       "\n",
       "    .dataframe tbody tr th {\n",
       "        vertical-align: top;\n",
       "    }\n",
       "\n",
       "    .dataframe thead th {\n",
       "        text-align: right;\n",
       "    }\n",
       "</style>\n",
       "<table border=\"1\" class=\"dataframe\">\n",
       "  <thead>\n",
       "    <tr style=\"text-align: right;\">\n",
       "      <th></th>\n",
       "      <th>Loan_ID</th>\n",
       "      <th>loan_status</th>\n",
       "      <th>Principal</th>\n",
       "      <th>terms</th>\n",
       "      <th>effective_date</th>\n",
       "      <th>due_date</th>\n",
       "      <th>paid_off_time</th>\n",
       "      <th>past_due_days</th>\n",
       "      <th>age</th>\n",
       "      <th>education</th>\n",
       "      <th>Gender</th>\n",
       "    </tr>\n",
       "  </thead>\n",
       "  <tbody>\n",
       "    <tr>\n",
       "      <th>300</th>\n",
       "      <td>xqd20160301</td>\n",
       "      <td>COLLECTION</td>\n",
       "      <td>1000</td>\n",
       "      <td>15</td>\n",
       "      <td>9/9/2016</td>\n",
       "      <td>9/23/2016</td>\n",
       "      <td>NaN</td>\n",
       "      <td>76.0</td>\n",
       "      <td>29</td>\n",
       "      <td>college</td>\n",
       "      <td>male</td>\n",
       "    </tr>\n",
       "    <tr>\n",
       "      <th>301</th>\n",
       "      <td>xqd20160302</td>\n",
       "      <td>COLLECTION</td>\n",
       "      <td>1000</td>\n",
       "      <td>30</td>\n",
       "      <td>9/9/2016</td>\n",
       "      <td>10/8/2016</td>\n",
       "      <td>NaN</td>\n",
       "      <td>61.0</td>\n",
       "      <td>37</td>\n",
       "      <td>High School or Below</td>\n",
       "      <td>male</td>\n",
       "    </tr>\n",
       "    <tr>\n",
       "      <th>302</th>\n",
       "      <td>xqd20160303</td>\n",
       "      <td>COLLECTION</td>\n",
       "      <td>1000</td>\n",
       "      <td>30</td>\n",
       "      <td>9/9/2016</td>\n",
       "      <td>10/8/2016</td>\n",
       "      <td>NaN</td>\n",
       "      <td>61.0</td>\n",
       "      <td>33</td>\n",
       "      <td>High School or Below</td>\n",
       "      <td>male</td>\n",
       "    </tr>\n",
       "    <tr>\n",
       "      <th>303</th>\n",
       "      <td>xqd20160304</td>\n",
       "      <td>COLLECTION</td>\n",
       "      <td>800</td>\n",
       "      <td>15</td>\n",
       "      <td>9/9/2016</td>\n",
       "      <td>9/23/2016</td>\n",
       "      <td>NaN</td>\n",
       "      <td>76.0</td>\n",
       "      <td>27</td>\n",
       "      <td>college</td>\n",
       "      <td>male</td>\n",
       "    </tr>\n",
       "    <tr>\n",
       "      <th>304</th>\n",
       "      <td>xqd20160305</td>\n",
       "      <td>COLLECTION</td>\n",
       "      <td>800</td>\n",
       "      <td>15</td>\n",
       "      <td>9/9/2016</td>\n",
       "      <td>9/23/2016</td>\n",
       "      <td>NaN</td>\n",
       "      <td>76.0</td>\n",
       "      <td>24</td>\n",
       "      <td>Bechalor</td>\n",
       "      <td>male</td>\n",
       "    </tr>\n",
       "  </tbody>\n",
       "</table>\n",
       "</div>"
      ],
      "text/plain": [
       "         Loan_ID loan_status  Principal  terms effective_date   due_date  \\\n",
       "300  xqd20160301  COLLECTION       1000     15       9/9/2016  9/23/2016   \n",
       "301  xqd20160302  COLLECTION       1000     30       9/9/2016  10/8/2016   \n",
       "302  xqd20160303  COLLECTION       1000     30       9/9/2016  10/8/2016   \n",
       "303  xqd20160304  COLLECTION        800     15       9/9/2016  9/23/2016   \n",
       "304  xqd20160305  COLLECTION        800     15       9/9/2016  9/23/2016   \n",
       "\n",
       "    paid_off_time  past_due_days  age             education Gender  \n",
       "300           NaN           76.0   29               college   male  \n",
       "301           NaN           61.0   37  High School or Below   male  \n",
       "302           NaN           61.0   33  High School or Below   male  \n",
       "303           NaN           76.0   27               college   male  \n",
       "304           NaN           76.0   24              Bechalor   male  "
      ]
     },
     "execution_count": 15,
     "metadata": {},
     "output_type": "execute_result"
    }
   ],
   "source": [
    "#take a look at not paid(collections) dataframe\n",
    "df_not_paid.head()"
   ]
  },
  {
   "cell_type": "code",
   "execution_count": 16,
   "metadata": {},
   "outputs": [
    {
     "data": {
      "text/plain": [
       "30.61"
      ]
     },
     "execution_count": 16,
     "metadata": {},
     "output_type": "execute_result"
    }
   ],
   "source": [
    "#take a look at average age of loan holder in not paid status\n",
    "df_not_paid.age.mean()"
   ]
  },
  {
   "cell_type": "code",
   "execution_count": 17,
   "metadata": {},
   "outputs": [
    {
     "data": {
      "text/plain": [
       "college                 220\n",
       "High School or Below    209\n",
       "Bechalor                 67\n",
       "Master or Above           4\n",
       "Name: education, dtype: int64"
      ]
     },
     "execution_count": 17,
     "metadata": {},
     "output_type": "execute_result"
    }
   ],
   "source": [
    "#take a look at education for collections group\n",
    "df.education.value_counts()"
   ]
  },
  {
   "cell_type": "code",
   "execution_count": 18,
   "metadata": {},
   "outputs": [
    {
     "data": {
      "text/plain": [
       "62.86"
      ]
     },
     "execution_count": 18,
     "metadata": {},
     "output_type": "execute_result"
    }
   ],
   "source": [
    "#take a look at average number of days that loan has not been paid\n",
    "df_not_paid.past_due_days.mean()"
   ]
  },
  {
   "cell_type": "markdown",
   "metadata": {},
   "source": [
    "### The average age of a loan holder in not paid status is 30.6 years and the average number of days that the loan has not been paid is 62.9 days. "
   ]
  },
  {
   "cell_type": "code",
   "execution_count": 19,
   "metadata": {},
   "outputs": [
    {
     "data": {
      "text/plain": [
       "59.0    40\n",
       "74.0    25\n",
       "60.0    13\n",
       "75.0     7\n",
       "29.0     4\n",
       "76.0     3\n",
       "58.0     2\n",
       "44.0     2\n",
       "61.0     2\n",
       "28.0     1\n",
       "73.0     1\n",
       "Name: past_due_days, dtype: int64"
      ]
     },
     "execution_count": 19,
     "metadata": {},
     "output_type": "execute_result"
    }
   ],
   "source": [
    "#take a look at average number of days that loan has not been paid\n",
    "df_not_paid.past_due_days.value_counts()"
   ]
  },
  {
   "cell_type": "code",
   "execution_count": 20,
   "metadata": {},
   "outputs": [
    {
     "data": {
      "text/plain": [
       "<matplotlib.axes._subplots.AxesSubplot at 0x21f55a4a358>"
      ]
     },
     "execution_count": 20,
     "metadata": {},
     "output_type": "execute_result"
    },
    {
     "data": {
      "image/png": "[encoded data removed]",
      "text/plain": [
       "<Figure size 432x288 with 1 Axes>"
      ]
     },
     "metadata": {},
     "output_type": "display_data"
    }
   ],
   "source": [
    "#take a look at the relationship between age and the no of past due days \n",
    "df_not_paid.groupby('age').past_due_days.sum().plot(kind='bar')"
   ]
  },
  {
   "cell_type": "markdown",
   "metadata": {},
   "source": [
    "### Plotting the groupby of the sum of days a loan is past due and the age is 26 years old with second highest at 30 years old and third highest at 29 years old.  The highest past due date within this dataset is 76 days and the lowest is 28 days.  "
   ]
  },
  {
   "cell_type": "code",
   "execution_count": 21,
   "metadata": {},
   "outputs": [
    {
     "data": {
      "text/plain": [
       "male      90\n",
       "female    10\n",
       "Name: Gender, dtype: int64"
      ]
     },
     "execution_count": 21,
     "metadata": {},
     "output_type": "execute_result"
    }
   ],
   "source": [
    "#take a look at gender distribution of those not paid and those paid\n",
    "df_not_paid.Gender.value_counts()"
   ]
  },
  {
   "cell_type": "code",
   "execution_count": 22,
   "metadata": {},
   "outputs": [
    {
     "data": {
      "text/plain": [
       "<matplotlib.axes._subplots.AxesSubplot at 0x21f55a634a8>"
      ]
     },
     "execution_count": 22,
     "metadata": {},
     "output_type": "execute_result"
    },
    {
     "data": {
      "image/png": "[encoded data removed]",
      "text/plain": [
       "<Figure size 432x288 with 1 Axes>"
      ]
     },
     "metadata": {},
     "output_type": "display_data"
    }
   ],
   "source": [
    "#plot education and age trends for loans not paid\n",
    "sns.countplot(x='education', data=df_not_paid, hue='Gender')  "
   ]
  },
  {
   "cell_type": "markdown",
   "metadata": {},
   "source": [
    "### Exploratory data analysis of this dataset shows that there are 423 males and 77 females in the entire dataset and that 21% of males and 12% of females in the dataset defaulted on loans.  In the total dataset, there are 209 with high school education, 220 with college education, 67 with bachelors degrees and 4 with masters degrees.  Of those, 23% of high school defaulted on loans, 18% of college defaulted on loans, 16% of bachelors defaulted on loans and 25 % of masters defaulted on loans.  The visualizations show that there are more in college loans perhaps due to the loans being student loans.  The percentage of defaulted loans is highest in the masters education category perhaps statistically due to there not being a lot of masters loans represented in the dataset."
   ]
  },
  {
   "cell_type": "code",
   "execution_count": 23,
   "metadata": {},
   "outputs": [
    {
     "data": {
      "text/plain": [
       "1000    77\n",
       "800     23\n",
       "Name: Principal, dtype: int64"
      ]
     },
     "execution_count": 23,
     "metadata": {},
     "output_type": "execute_result"
    }
   ],
   "source": [
    "# take a look at how the principal loan amount is distributed in the collection group\n",
    "df_not_paid.Principal.value_counts(ascending=False)"
   ]
  },
  {
   "cell_type": "code",
   "execution_count": 24,
   "metadata": {},
   "outputs": [
    {
     "data": {
      "image/png": "[encoded data removed]",
      "text/plain": [
       "<Figure size 432x288 with 1 Axes>"
      ]
     },
     "metadata": {},
     "output_type": "display_data"
    }
   ],
   "source": [
    "#take a look at visualization of principal loan amount on pie chart \n",
    "labels = '1000 dollars','800 dollars'\n",
    "sizes = [77, 23]\n",
    "fig1, ax1 = plt.subplots()\n",
    "ax1.pie(sizes, labels=labels)\n",
    "ax1.axis('equal')\n",
    "plt.title(\"Principal_amount_of_defaulted_loans\")\n",
    "plt.show()"
   ]
  },
  {
   "cell_type": "markdown",
   "metadata": {},
   "source": [
    "### The pie chart shows the majority of defaulted loans are in the amount of 1000 dollars and the second amount is similar at 800 dollars."
   ]
  },
  {
   "cell_type": "code",
   "execution_count": 25,
   "metadata": {},
   "outputs": [
    {
     "data": {
      "text/plain": [
       "30    59\n",
       "15    41\n",
       "Name: terms, dtype: int64"
      ]
     },
     "execution_count": 25,
     "metadata": {},
     "output_type": "execute_result"
    }
   ],
   "source": [
    "#take a look at trends for the loan terms in the collections group \n",
    "df_not_paid.terms.value_counts(ascending=False)"
   ]
  },
  {
   "cell_type": "code",
   "execution_count": 26,
   "metadata": {},
   "outputs": [
    {
     "data": {
      "text/plain": [
       "<matplotlib.axes._subplots.AxesSubplot at 0x21f55bb3780>"
      ]
     },
     "execution_count": 26,
     "metadata": {},
     "output_type": "execute_result"
    },
    {
     "data": {
      "image/png": "[encoded data removed]",
      "text/plain": [
       "<Figure size 432x288 with 1 Axes>"
      ]
     },
     "metadata": {},
     "output_type": "display_data"
    }
   ],
   "source": [
    "#plot principal and terms together to look for trends in collections group \n",
    "df_not_paid.groupby('terms').sum().plot(kind='bar')"
   ]
  },
  {
   "cell_type": "markdown",
   "metadata": {},
   "source": [
    "### Exploratory data analysis shows that 59% have a 30 year term and 41% have a 15 year term.  According to the plot, the longer term loans also have a larger loan principal amount. "
   ]
  },
  {
   "cell_type": "code",
   "execution_count": 27,
   "metadata": {},
   "outputs": [],
   "source": [
    "#utilize pandas time series analysis on due date\n",
    "from datetime import datetime, timedelta\n",
    "df_not_paid['due_date'] = pd.to_datetime(df_not_paid.due_date)"
   ]
  },
  {
   "cell_type": "code",
   "execution_count": 28,
   "metadata": {},
   "outputs": [
    {
     "data": {
      "text/plain": [
       "<matplotlib.axes._subplots.AxesSubplot at 0x21f55c2fb70>"
      ]
     },
     "execution_count": 28,
     "metadata": {},
     "output_type": "execute_result"
    },
    {
     "data": {
      "image/png": "[encoded data removed]",
      "text/plain": [
       "<Figure size 432x288 with 1 Axes>"
      ]
     },
     "metadata": {},
     "output_type": "display_data"
    }
   ],
   "source": [
    "#plot visualization of counts of due date to look for trends\n",
    "df_not_paid.due_date.value_counts().sort_index().plot()"
   ]
  },
  {
   "cell_type": "code",
   "execution_count": 29,
   "metadata": {},
   "outputs": [
    {
     "data": {
      "text/plain": [
       "<matplotlib.axes._subplots.AxesSubplot at 0x21f55ca3710>"
      ]
     },
     "execution_count": 29,
     "metadata": {},
     "output_type": "execute_result"
    },
    {
     "data": {
      "image/png": "[encoded data removed]",
      "text/plain": [
       "<Figure size 432x288 with 1 Axes>"
      ]
     },
     "metadata": {},
     "output_type": "display_data"
    }
   ],
   "source": [
    "#use pandas date time series to plot effective date of loan in collections group. \n",
    "df_not_paid['effective_date'] = pd.to_datetime(df_not_paid.effective_date)\n",
    "df_not_paid.effective_date.value_counts().sort_index().plot()"
   ]
  },
  {
   "cell_type": "markdown",
   "metadata": {},
   "source": [
    "### The majority of due dates fall in early October and end of September which could possibly indicate that some of these defauted loans are student loans. Also the majority of loans occur on a Sunday(Sept 11).  "
   ]
  },
  {
   "cell_type": "code",
   "execution_count": 30,
   "metadata": {},
   "outputs": [],
   "source": [
    "#create copy of original dataframe in order to drop not paid rows and explore data trends of loans paid\n",
    "df_copy = df.copy()"
   ]
  },
  {
   "cell_type": "code",
   "execution_count": 31,
   "metadata": {},
   "outputs": [
    {
     "data": {
      "text/plain": [
       "(400, 11)"
      ]
     },
     "execution_count": 31,
     "metadata": {},
     "output_type": "execute_result"
    }
   ],
   "source": [
    "#use copy to create data frame that includes the 400 folks that have paid their loan\n",
    "df_copy.drop(df.index[300:400], inplace=True)\n",
    "df_copy.shape"
   ]
  },
  {
   "cell_type": "code",
   "execution_count": 32,
   "metadata": {},
   "outputs": [
    {
     "data": {
      "text/html": [
       "<div>\n",
       "<style scoped>\n",
       "    .dataframe tbody tr th:only-of-type {\n",
       "        vertical-align: middle;\n",
       "    }\n",
       "\n",
       "    .dataframe tbody tr th {\n",
       "        vertical-align: top;\n",
       "    }\n",
       "\n",
       "    .dataframe thead th {\n",
       "        text-align: right;\n",
       "    }\n",
       "</style>\n",
       "<table border=\"1\" class=\"dataframe\">\n",
       "  <thead>\n",
       "    <tr style=\"text-align: right;\">\n",
       "      <th></th>\n",
       "      <th>Loan_ID</th>\n",
       "      <th>loan_status</th>\n",
       "      <th>Principal</th>\n",
       "      <th>terms</th>\n",
       "      <th>effective_date</th>\n",
       "      <th>due_date</th>\n",
       "      <th>paid_off_time</th>\n",
       "      <th>past_due_days</th>\n",
       "      <th>age</th>\n",
       "      <th>education</th>\n",
       "      <th>Gender</th>\n",
       "    </tr>\n",
       "  </thead>\n",
       "  <tbody>\n",
       "    <tr>\n",
       "      <th>495</th>\n",
       "      <td>xqd20160496</td>\n",
       "      <td>COLLECTION_PAIDOFF</td>\n",
       "      <td>1000</td>\n",
       "      <td>30</td>\n",
       "      <td>9/12/2016</td>\n",
       "      <td>10/11/2016</td>\n",
       "      <td>10/14/2016 19:08</td>\n",
       "      <td>3.0</td>\n",
       "      <td>28</td>\n",
       "      <td>High School or Below</td>\n",
       "      <td>male</td>\n",
       "    </tr>\n",
       "    <tr>\n",
       "      <th>496</th>\n",
       "      <td>xqd20160497</td>\n",
       "      <td>COLLECTION_PAIDOFF</td>\n",
       "      <td>1000</td>\n",
       "      <td>15</td>\n",
       "      <td>9/12/2016</td>\n",
       "      <td>9/26/2016</td>\n",
       "      <td>10/10/2016 20:02</td>\n",
       "      <td>14.0</td>\n",
       "      <td>26</td>\n",
       "      <td>High School or Below</td>\n",
       "      <td>male</td>\n",
       "    </tr>\n",
       "    <tr>\n",
       "      <th>497</th>\n",
       "      <td>xqd20160498</td>\n",
       "      <td>COLLECTION_PAIDOFF</td>\n",
       "      <td>800</td>\n",
       "      <td>15</td>\n",
       "      <td>9/12/2016</td>\n",
       "      <td>9/26/2016</td>\n",
       "      <td>9/29/2016 11:49</td>\n",
       "      <td>3.0</td>\n",
       "      <td>30</td>\n",
       "      <td>college</td>\n",
       "      <td>male</td>\n",
       "    </tr>\n",
       "    <tr>\n",
       "      <th>498</th>\n",
       "      <td>xqd20160499</td>\n",
       "      <td>COLLECTION_PAIDOFF</td>\n",
       "      <td>1000</td>\n",
       "      <td>30</td>\n",
       "      <td>9/12/2016</td>\n",
       "      <td>11/10/2016</td>\n",
       "      <td>11/11/2016 22:40</td>\n",
       "      <td>1.0</td>\n",
       "      <td>38</td>\n",
       "      <td>college</td>\n",
       "      <td>female</td>\n",
       "    </tr>\n",
       "    <tr>\n",
       "      <th>499</th>\n",
       "      <td>xqd20160500</td>\n",
       "      <td>COLLECTION_PAIDOFF</td>\n",
       "      <td>1000</td>\n",
       "      <td>30</td>\n",
       "      <td>9/12/2016</td>\n",
       "      <td>10/11/2016</td>\n",
       "      <td>10/19/2016 11:58</td>\n",
       "      <td>8.0</td>\n",
       "      <td>28</td>\n",
       "      <td>High School or Below</td>\n",
       "      <td>male</td>\n",
       "    </tr>\n",
       "  </tbody>\n",
       "</table>\n",
       "</div>"
      ],
      "text/plain": [
       "         Loan_ID         loan_status  Principal  terms effective_date  \\\n",
       "495  xqd20160496  COLLECTION_PAIDOFF       1000     30      9/12/2016   \n",
       "496  xqd20160497  COLLECTION_PAIDOFF       1000     15      9/12/2016   \n",
       "497  xqd20160498  COLLECTION_PAIDOFF        800     15      9/12/2016   \n",
       "498  xqd20160499  COLLECTION_PAIDOFF       1000     30      9/12/2016   \n",
       "499  xqd20160500  COLLECTION_PAIDOFF       1000     30      9/12/2016   \n",
       "\n",
       "       due_date     paid_off_time  past_due_days  age             education  \\\n",
       "495  10/11/2016  10/14/2016 19:08            3.0   28  High School or Below   \n",
       "496   9/26/2016  10/10/2016 20:02           14.0   26  High School or Below   \n",
       "497   9/26/2016   9/29/2016 11:49            3.0   30               college   \n",
       "498  11/10/2016  11/11/2016 22:40            1.0   38               college   \n",
       "499  10/11/2016  10/19/2016 11:58            8.0   28  High School or Below   \n",
       "\n",
       "     Gender  \n",
       "495    male  \n",
       "496    male  \n",
       "497    male  \n",
       "498  female  \n",
       "499    male  "
      ]
     },
     "execution_count": 32,
     "metadata": {},
     "output_type": "execute_result"
    }
   ],
   "source": [
    "#take a look at paid group dataframe\n",
    "df_copy.tail()"
   ]
  },
  {
   "cell_type": "code",
   "execution_count": 33,
   "metadata": {},
   "outputs": [
    {
     "data": {
      "text/plain": [
       "31.2425"
      ]
     },
     "execution_count": 33,
     "metadata": {},
     "output_type": "execute_result"
    }
   ],
   "source": [
    "#take a look at average age of loan holder in paid loan status\n",
    "df_copy.age.mean()"
   ]
  },
  {
   "cell_type": "code",
   "execution_count": 34,
   "metadata": {},
   "outputs": [
    {
     "data": {
      "text/plain": [
       "2.29"
      ]
     },
     "execution_count": 34,
     "metadata": {},
     "output_type": "execute_result"
    }
   ],
   "source": [
    "#take a look at average number of days that loan had not been paid in paid loan group\n",
    "df_copy.past_due_days.mean()"
   ]
  },
  {
   "cell_type": "code",
   "execution_count": 35,
   "metadata": {},
   "outputs": [
    {
     "data": {
      "text/plain": [
       "0.0     300\n",
       "2.0      22\n",
       "1.0      18\n",
       "3.0      14\n",
       "4.0       8\n",
       "5.0       5\n",
       "29.0      3\n",
       "27.0      3\n",
       "14.0      3\n",
       "7.0       3\n",
       "13.0      2\n",
       "6.0       2\n",
       "12.0      2\n",
       "24.0      2\n",
       "25.0      2\n",
       "44.0      1\n",
       "8.0       1\n",
       "56.0      1\n",
       "28.0      1\n",
       "23.0      1\n",
       "38.0      1\n",
       "19.0      1\n",
       "52.0      1\n",
       "51.0      1\n",
       "9.0       1\n",
       "36.0      1\n",
       "Name: past_due_days, dtype: int64"
      ]
     },
     "execution_count": 35,
     "metadata": {},
     "output_type": "execute_result"
    }
   ],
   "source": [
    "#take a look at distribution of past due days in paid off loan group\n",
    "df_copy.past_due_days.value_counts()"
   ]
  },
  {
   "cell_type": "markdown",
   "metadata": {},
   "source": [
    "### Majority of folks in paid off loan group, that is to say 300 out of 400, have no past due days and the highest past due days before payment was 56 days.  Exploratory data analysis could also be done on the 300 out of the total 500 folks that have paid off their loan in a timely manner.  The average age is a little bit older than the collections group at 31.2 years.  "
   ]
  },
  {
   "cell_type": "code",
   "execution_count": 36,
   "metadata": {},
   "outputs": [
    {
     "data": {
      "text/plain": [
       "<matplotlib.axes._subplots.AxesSubplot at 0x21f55d036d8>"
      ]
     },
     "execution_count": 36,
     "metadata": {},
     "output_type": "execute_result"
    },
    {
     "data": {
      "image/png": "[encoded data removed]",
      "text/plain": [
       "<Figure size 432x288 with 1 Axes>"
      ]
     },
     "metadata": {},
     "output_type": "display_data"
    }
   ],
   "source": [
    "#take a look at the relationship between age and the no of past due days in paid loans group \n",
    "df_copy.groupby('age').past_due_days.sum().plot(kind='bar')"
   ]
  },
  {
   "cell_type": "markdown",
   "metadata": {},
   "source": [
    "### Even though the average age was 31.2, according to the plot above, the highest past due days lies in the age bracket of 26 years old similar to the collections dataset but what is different is the second largest group is 27 years old and the third largest group is at 33 years old.  "
   ]
  },
  {
   "cell_type": "code",
   "execution_count": 37,
   "metadata": {},
   "outputs": [
    {
     "data": {
      "text/plain": [
       "male      333\n",
       "female     67\n",
       "Name: Gender, dtype: int64"
      ]
     },
     "execution_count": 37,
     "metadata": {},
     "output_type": "execute_result"
    }
   ],
   "source": [
    "#take a look at gender distribution of paid loans\n",
    "df_copy.Gender.value_counts()"
   ]
  },
  {
   "cell_type": "code",
   "execution_count": 38,
   "metadata": {},
   "outputs": [
    {
     "data": {
      "text/plain": [
       "<matplotlib.axes._subplots.AxesSubplot at 0x21f55d00fd0>"
      ]
     },
     "execution_count": 38,
     "metadata": {},
     "output_type": "execute_result"
    },
    {
     "data": {
      "image/png": "[encoded data removed]",
      "text/plain": [
       "<Figure size 432x288 with 1 Axes>"
      ]
     },
     "metadata": {},
     "output_type": "display_data"
    }
   ],
   "source": [
    "#plot education and age trends for paid loans\n",
    "sns.countplot(x='education', data=df_copy, hue='Gender')"
   ]
  },
  {
   "cell_type": "code",
   "execution_count": 39,
   "metadata": {},
   "outputs": [
    {
     "data": {
      "text/plain": [
       "1000    300\n",
       "800      88\n",
       "300       6\n",
       "500       3\n",
       "900       2\n",
       "700       1\n",
       "Name: Principal, dtype: int64"
      ]
     },
     "execution_count": 39,
     "metadata": {},
     "output_type": "execute_result"
    }
   ],
   "source": [
    "# take a look at how the principal loan amount is distributed in paid off loan group\n",
    "df_copy.Principal.value_counts(ascending=False)"
   ]
  },
  {
   "cell_type": "code",
   "execution_count": 40,
   "metadata": {},
   "outputs": [
    {
     "data": {
      "image/png": "[encoded data removed]",
      "text/plain": [
       "<Figure size 432x288 with 1 Axes>"
      ]
     },
     "metadata": {},
     "output_type": "display_data"
    }
   ],
   "source": [
    "#take a look at visualization of principal loan amount on pie chart \n",
    "labels = '1000 dollars','900 dollars','800 dollars','700 dollars','500 dollars','300 dollars'\n",
    "sizes = [75,.5,22,.25,.75,1.5]\n",
    "fig1, ax1 = plt.subplots()\n",
    "ax1.pie(sizes, labels=labels)\n",
    "ax1.axis('equal')\n",
    "plt.title(\"Principal_amount_of_defaulted_loans\")\n",
    "plt.show()"
   ]
  },
  {
   "cell_type": "markdown",
   "metadata": {},
   "source": [
    "### There are 78% of males in paid off loan group and 87% of females in paid off loan group.  Also similar to the collections group, the majority of loans in this data set are of amount 1000 dollars and second highest amount is 800 dollars.  "
   ]
  },
  {
   "cell_type": "code",
   "execution_count": 41,
   "metadata": {},
   "outputs": [
    {
     "data": {
      "text/plain": [
       "30    213\n",
       "15    166\n",
       "7      21\n",
       "Name: terms, dtype: int64"
      ]
     },
     "execution_count": 41,
     "metadata": {},
     "output_type": "execute_result"
    }
   ],
   "source": [
    "#take a look at trends for the loan terms in the paid off loan group \n",
    "df_copy.terms.value_counts(ascending=False)"
   ]
  },
  {
   "cell_type": "markdown",
   "metadata": {},
   "source": [
    "### What is interesting about the terms in the paid off loan group is that they are more evenly distributed between 15 and 30 year loans and there are also a few 7 year loans.  "
   ]
  },
  {
   "cell_type": "code",
   "execution_count": 42,
   "metadata": {},
   "outputs": [
    {
     "data": {
      "text/plain": [
       "<matplotlib.axes._subplots.AxesSubplot at 0x21f55afe6d8>"
      ]
     },
     "execution_count": 42,
     "metadata": {},
     "output_type": "execute_result"
    },
    {
     "data": {
      "image/png": "[encoded data removed]",
      "text/plain": [
       "<Figure size 432x288 with 1 Axes>"
      ]
     },
     "metadata": {},
     "output_type": "display_data"
    }
   ],
   "source": [
    "#plot principal and terms together to look for trends in paid off loan group \n",
    "df_copy.groupby('terms').sum().plot(kind='bar')"
   ]
  },
  {
   "cell_type": "markdown",
   "metadata": {},
   "source": [
    "### Similar to the collections group plot, the longer term loans have a larger loan principal amount. Similar to the collection plot, there are also more past due days in the larger principal amount, longer loan term category."
   ]
  },
  {
   "cell_type": "code",
   "execution_count": 43,
   "metadata": {},
   "outputs": [],
   "source": [
    "#utilize pandas time series analysis on due date\n",
    "from datetime import datetime, timedelta\n",
    "df_copy['due_date'] = pd.to_datetime(df_copy.due_date)"
   ]
  },
  {
   "cell_type": "code",
   "execution_count": 44,
   "metadata": {},
   "outputs": [
    {
     "data": {
      "text/plain": [
       "<matplotlib.axes._subplots.AxesSubplot at 0x21f55f23d30>"
      ]
     },
     "execution_count": 44,
     "metadata": {},
     "output_type": "execute_result"
    },
    {
     "data": {
      "image/png": "[encoded data removed]",
      "text/plain": [
       "<Figure size 432x288 with 1 Axes>"
      ]
     },
     "metadata": {},
     "output_type": "display_data"
    }
   ],
   "source": [
    "#plot visualization of counts of due date to look for trends in paid off group \n",
    "df_copy.due_date.value_counts().sort_index().plot()"
   ]
  },
  {
   "cell_type": "code",
   "execution_count": 45,
   "metadata": {},
   "outputs": [
    {
     "data": {
      "text/plain": [
       "<matplotlib.axes._subplots.AxesSubplot at 0x21f55f79e80>"
      ]
     },
     "execution_count": 45,
     "metadata": {},
     "output_type": "execute_result"
    },
    {
     "data": {
      "image/png": "[encoded data removed]",
      "text/plain": [
       "<Figure size 432x288 with 1 Axes>"
      ]
     },
     "metadata": {},
     "output_type": "display_data"
    }
   ],
   "source": [
    "#use pandas date time series to plot effective date of loan in paid off loan group. \n",
    "df_copy['effective_date'] = pd.to_datetime(df_copy.effective_date)\n",
    "df_copy.effective_date.value_counts().sort_index().plot()"
   ]
  },
  {
   "cell_type": "markdown",
   "metadata": {},
   "source": [
    "### The plot for counts of due date were similar as that seen in the collections group however the effective date shows two peaks for the non-collections group of Sept 11 and Sept 12 whereas the collections group showed one peak for the effective date on Sept 11.  This further indicates that many of these loans could be student loans."
   ]
  },
  {
   "cell_type": "code",
   "execution_count": 46,
   "metadata": {},
   "outputs": [
    {
     "data": {
      "text/html": [
       "<div>\n",
       "<style scoped>\n",
       "    .dataframe tbody tr th:only-of-type {\n",
       "        vertical-align: middle;\n",
       "    }\n",
       "\n",
       "    .dataframe tbody tr th {\n",
       "        vertical-align: top;\n",
       "    }\n",
       "\n",
       "    .dataframe thead th {\n",
       "        text-align: right;\n",
       "    }\n",
       "</style>\n",
       "<table border=\"1\" class=\"dataframe\">\n",
       "  <thead>\n",
       "    <tr style=\"text-align: right;\">\n",
       "      <th></th>\n",
       "      <th>Loan_ID</th>\n",
       "      <th>loan_status</th>\n",
       "      <th>Principal</th>\n",
       "      <th>terms</th>\n",
       "      <th>effective_date</th>\n",
       "      <th>due_date</th>\n",
       "      <th>paid_off_time</th>\n",
       "      <th>past_due_days</th>\n",
       "      <th>age</th>\n",
       "      <th>education</th>\n",
       "      <th>Gender</th>\n",
       "    </tr>\n",
       "  </thead>\n",
       "  <tbody>\n",
       "    <tr>\n",
       "      <th>0</th>\n",
       "      <td>xqd20166231</td>\n",
       "      <td>PAIDOFF</td>\n",
       "      <td>1000</td>\n",
       "      <td>30</td>\n",
       "      <td>9/8/2016</td>\n",
       "      <td>10/7/2016</td>\n",
       "      <td>9/14/2016 19:31</td>\n",
       "      <td>0.0</td>\n",
       "      <td>45</td>\n",
       "      <td>High School or Below</td>\n",
       "      <td>male</td>\n",
       "    </tr>\n",
       "    <tr>\n",
       "      <th>1</th>\n",
       "      <td>xqd20168902</td>\n",
       "      <td>PAIDOFF</td>\n",
       "      <td>1000</td>\n",
       "      <td>30</td>\n",
       "      <td>9/8/2016</td>\n",
       "      <td>10/7/2016</td>\n",
       "      <td>10/7/2016 9:00</td>\n",
       "      <td>0.0</td>\n",
       "      <td>50</td>\n",
       "      <td>Bechalor</td>\n",
       "      <td>female</td>\n",
       "    </tr>\n",
       "    <tr>\n",
       "      <th>2</th>\n",
       "      <td>xqd20160003</td>\n",
       "      <td>PAIDOFF</td>\n",
       "      <td>1000</td>\n",
       "      <td>30</td>\n",
       "      <td>9/8/2016</td>\n",
       "      <td>10/7/2016</td>\n",
       "      <td>9/25/2016 16:58</td>\n",
       "      <td>0.0</td>\n",
       "      <td>33</td>\n",
       "      <td>Bechalor</td>\n",
       "      <td>female</td>\n",
       "    </tr>\n",
       "    <tr>\n",
       "      <th>3</th>\n",
       "      <td>xqd20160004</td>\n",
       "      <td>PAIDOFF</td>\n",
       "      <td>1000</td>\n",
       "      <td>15</td>\n",
       "      <td>9/8/2016</td>\n",
       "      <td>9/22/2016</td>\n",
       "      <td>9/22/2016 20:00</td>\n",
       "      <td>0.0</td>\n",
       "      <td>27</td>\n",
       "      <td>college</td>\n",
       "      <td>male</td>\n",
       "    </tr>\n",
       "    <tr>\n",
       "      <th>4</th>\n",
       "      <td>xqd20160005</td>\n",
       "      <td>PAIDOFF</td>\n",
       "      <td>1000</td>\n",
       "      <td>30</td>\n",
       "      <td>9/9/2016</td>\n",
       "      <td>10/8/2016</td>\n",
       "      <td>9/23/2016 21:36</td>\n",
       "      <td>0.0</td>\n",
       "      <td>28</td>\n",
       "      <td>college</td>\n",
       "      <td>female</td>\n",
       "    </tr>\n",
       "  </tbody>\n",
       "</table>\n",
       "</div>"
      ],
      "text/plain": [
       "       Loan_ID loan_status  Principal  terms effective_date   due_date  \\\n",
       "0  xqd20166231     PAIDOFF       1000     30       9/8/2016  10/7/2016   \n",
       "1  xqd20168902     PAIDOFF       1000     30       9/8/2016  10/7/2016   \n",
       "2  xqd20160003     PAIDOFF       1000     30       9/8/2016  10/7/2016   \n",
       "3  xqd20160004     PAIDOFF       1000     15       9/8/2016  9/22/2016   \n",
       "4  xqd20160005     PAIDOFF       1000     30       9/9/2016  10/8/2016   \n",
       "\n",
       "     paid_off_time  past_due_days  age             education  Gender  \n",
       "0  9/14/2016 19:31            0.0   45  High School or Below    male  \n",
       "1   10/7/2016 9:00            0.0   50              Bechalor  female  \n",
       "2  9/25/2016 16:58            0.0   33              Bechalor  female  \n",
       "3  9/22/2016 20:00            0.0   27               college    male  \n",
       "4  9/23/2016 21:36            0.0   28               college  female  "
      ]
     },
     "execution_count": 46,
     "metadata": {},
     "output_type": "execute_result"
    }
   ],
   "source": [
    "# the previous data set included collection paid off group however this data set will explore group with zero past due days\n",
    "df_non_collection = df.iloc[0:300,:]\n",
    "df_non_collection.head()"
   ]
  },
  {
   "cell_type": "code",
   "execution_count": 47,
   "metadata": {},
   "outputs": [
    {
     "data": {
      "text/plain": [
       "31.21"
      ]
     },
     "execution_count": 47,
     "metadata": {},
     "output_type": "execute_result"
    }
   ],
   "source": [
    "#take a look at average age in the non-collections group\n",
    "df_non_collection.age.mean()"
   ]
  },
  {
   "cell_type": "markdown",
   "metadata": {},
   "source": [
    "### The ages with the highest percentage of paid on time loans are: 19,20,31, 42,43,44, 50 and 51.  The ages with the highest collections percentages are 24, 25, 32, 40, 41.  Based on this, after 41 years of age there is less default on loan and before 21 years of age there is less default on loan. "
   ]
  },
  {
   "cell_type": "code",
   "execution_count": 48,
   "metadata": {},
   "outputs": [
    {
     "data": {
      "text/plain": [
       "college                 133\n",
       "High School or Below    123\n",
       "Bechalor                 41\n",
       "Master or Above           3\n",
       "Name: education, dtype: int64"
      ]
     },
     "execution_count": 48,
     "metadata": {},
     "output_type": "execute_result"
    }
   ],
   "source": [
    "#take a look at education of non-collections group\n",
    "df_non_collection.education.value_counts()"
   ]
  },
  {
   "cell_type": "markdown",
   "metadata": {},
   "source": [
    "### In the non-collections group with no past due days on loan, there are 44% College, 41% High School, 14% Bachelors degrees and  1% Masters.  Out of the total 220 college, there are 60 % in the non-collections group. Out of the total 209 High School, there are 59% in the non-collections group.  Out of the total 67 Bachelors degrees, there are 62% in the non-collections group and out of the total 4 Masters, there are a total of 75% in the non-collections group. "
   ]
  },
  {
   "cell_type": "code",
   "execution_count": 49,
   "metadata": {},
   "outputs": [
    {
     "data": {
      "text/plain": [
       "male      247\n",
       "female     53\n",
       "Name: Gender, dtype: int64"
      ]
     },
     "execution_count": 49,
     "metadata": {},
     "output_type": "execute_result"
    }
   ],
   "source": [
    "#take a look at gender distribution of paid loan group\n",
    "df_non_collection.Gender.value_counts()"
   ]
  },
  {
   "cell_type": "code",
   "execution_count": 50,
   "metadata": {},
   "outputs": [
    {
     "data": {
      "text/plain": [
       "male      423\n",
       "female     77\n",
       "Name: Gender, dtype: int64"
      ]
     },
     "execution_count": 50,
     "metadata": {},
     "output_type": "execute_result"
    }
   ],
   "source": [
    "#get percentages by getting value counts of gender across entire dataframe\n",
    "df.Gender.value_counts()"
   ]
  },
  {
   "cell_type": "markdown",
   "metadata": {},
   "source": [
    "### 58% of males have paid loan on time and 68% of females have paid loan on time and 60% of total loan holders have paid loan on time.  "
   ]
  },
  {
   "cell_type": "code",
   "execution_count": 51,
   "metadata": {},
   "outputs": [
    {
     "data": {
      "text/plain": [
       "1000    220\n",
       "800      69\n",
       "300       6\n",
       "500       2\n",
       "900       2\n",
       "700       1\n",
       "Name: Principal, dtype: int64"
      ]
     },
     "execution_count": 51,
     "metadata": {},
     "output_type": "execute_result"
    }
   ],
   "source": [
    "# take a look at how the principal loan amount is distributed in collection group\n",
    "df_non_collection.Principal.value_counts(ascending=False)"
   ]
  },
  {
   "cell_type": "markdown",
   "metadata": {},
   "source": [
    "### 58% of 1000 dollar loan, 62% of 800 dollar loan and 100% of 300 dollar loan have been paid on time.  This shows indirect correlation between loan amount and paying loan on time."
   ]
  },
  {
   "cell_type": "code",
   "execution_count": 52,
   "metadata": {},
   "outputs": [
    {
     "data": {
      "text/plain": [
       "30    153\n",
       "15    127\n",
       "7      20\n",
       "Name: terms, dtype: int64"
      ]
     },
     "execution_count": 52,
     "metadata": {},
     "output_type": "execute_result"
    }
   ],
   "source": [
    "#take a look at trends for the loan terms in the paid off loan group \n",
    "df_non_collection.terms.value_counts(ascending=False)"
   ]
  },
  {
   "cell_type": "code",
   "execution_count": 53,
   "metadata": {},
   "outputs": [
    {
     "data": {
      "text/plain": [
       "30    272\n",
       "15    207\n",
       "7      21\n",
       "Name: terms, dtype: int64"
      ]
     },
     "execution_count": 53,
     "metadata": {},
     "output_type": "execute_result"
    }
   ],
   "source": [
    "#take a look at trends for the loan terms in the entire loan group \n",
    "df.terms.value_counts(ascending=False)"
   ]
  },
  {
   "cell_type": "markdown",
   "metadata": {},
   "source": [
    "###  This shows 56% of 30 year term loans, 61% of 15 year loans and 95% of 7 year loans pay their loan on time.  This also shows an indirect correlation between length of loan and paying loan on time.  "
   ]
  },
  {
   "cell_type": "code",
   "execution_count": 77,
   "metadata": {},
   "outputs": [
    {
     "data": {
      "text/plain": [
       "6    231\n",
       "0    148\n",
       "5     46\n",
       "2     33\n",
       "1     23\n",
       "4     15\n",
       "3      4\n",
       "Name: effective_day, dtype: int64"
      ]
     },
     "execution_count": 77,
     "metadata": {},
     "output_type": "execute_result"
    }
   ],
   "source": [
    "#convert all categorical columns to numeric; start with date time objects to day of week value\n",
    "df['effective_date'] = pd.to_datetime(df.effective_date)\n",
    "\n",
    "df['effective_day'] = df.effective_date.dt.dayofweek \n",
    "df.effective_day.value_counts()"
   ]
  },
  {
   "cell_type": "code",
   "execution_count": 78,
   "metadata": {},
   "outputs": [
    {
     "data": {
      "text/plain": [
       "10    267\n",
       "9     211\n",
       "11     22\n",
       "Name: due_month, dtype: int64"
      ]
     },
     "execution_count": 78,
     "metadata": {},
     "output_type": "execute_result"
    }
   ],
   "source": [
    "df['due_date'] = pd.to_datetime(df.due_date)                                     \n",
    "df['due_day'] = df.due_date.dt.dayofweek\n",
    "df['due_month'] = df.due_date.dt.month\n",
    "df.due_day.value_counts()\n",
    "df.due_month.value_counts()"
   ]
  },
  {
   "cell_type": "code",
   "execution_count": 79,
   "metadata": {},
   "outputs": [
    {
     "name": "stdout",
     "output_type": "stream",
     "text": [
      "       Loan_ID loan_status  Principal  terms effective_date   due_date  \\\n",
      "0  xqd20166231     PAIDOFF       1000     30     2016-09-08 2016-10-07   \n",
      "1  xqd20168902     PAIDOFF       1000     30     2016-09-08 2016-10-07   \n",
      "2  xqd20160003     PAIDOFF       1000     30     2016-09-08 2016-10-07   \n",
      "3  xqd20160004     PAIDOFF       1000     15     2016-09-08 2016-09-22   \n",
      "4  xqd20160005     PAIDOFF       1000     30     2016-09-09 2016-10-08   \n",
      "\n",
      "     paid_off_time  past_due_days  age             education  Gender  \\\n",
      "0  9/14/2016 19:31            0.0   45  High School or Below    male   \n",
      "1   10/7/2016 9:00            0.0   50              Bechalor  female   \n",
      "2  9/25/2016 16:58            0.0   33              Bechalor  female   \n",
      "3  9/22/2016 20:00            0.0   27               college    male   \n",
      "4  9/23/2016 21:36            0.0   28               college  female   \n",
      "\n",
      "   effective_day  due_day  due_month  Bechalor  High School or Below  \\\n",
      "0              3        4         10         0                     1   \n",
      "1              3        4         10         1                     0   \n",
      "2              3        4         10         1                     0   \n",
      "3              3        3          9         0                     0   \n",
      "4              4        5         10         0                     0   \n",
      "\n",
      "   Master or Above  college  female  male  \n",
      "0                0        0       0     1  \n",
      "1                0        0       1     0  \n",
      "2                0        0       1     0  \n",
      "3                0        1       0     1  \n",
      "4                0        1       1     0  \n"
     ]
    }
   ],
   "source": [
    "#create dummy variable for education and gender and then concat all columns\n",
    "schooling = pd.get_dummies(df['education'])\n",
    "gender = pd.get_dummies(df['Gender'])\n",
    "df_numeric = pd.concat([df, schooling, gender], axis=1)\n",
    "print(df_numeric.head())"
   ]
  },
  {
   "cell_type": "markdown",
   "metadata": {},
   "source": [
    "### Create a supervised machine learning model that classifies between who pays loan and who does not pay loan"
   ]
  },
  {
   "cell_type": "code",
   "execution_count": 80,
   "metadata": {},
   "outputs": [
    {
     "data": {
      "text/html": [
       "<div>\n",
       "<style scoped>\n",
       "    .dataframe tbody tr th:only-of-type {\n",
       "        vertical-align: middle;\n",
       "    }\n",
       "\n",
       "    .dataframe tbody tr th {\n",
       "        vertical-align: top;\n",
       "    }\n",
       "\n",
       "    .dataframe thead th {\n",
       "        text-align: right;\n",
       "    }\n",
       "</style>\n",
       "<table border=\"1\" class=\"dataframe\">\n",
       "  <thead>\n",
       "    <tr style=\"text-align: right;\">\n",
       "      <th></th>\n",
       "      <th>Principal</th>\n",
       "      <th>terms</th>\n",
       "      <th>age</th>\n",
       "      <th>effective_day</th>\n",
       "      <th>due_day</th>\n",
       "      <th>due_month</th>\n",
       "      <th>bachelor_degree</th>\n",
       "      <th>High School or Below</th>\n",
       "      <th>Master or Above</th>\n",
       "      <th>in_college</th>\n",
       "      <th>female</th>\n",
       "      <th>male</th>\n",
       "      <th>status</th>\n",
       "    </tr>\n",
       "  </thead>\n",
       "  <tbody>\n",
       "    <tr>\n",
       "      <th>0</th>\n",
       "      <td>1000</td>\n",
       "      <td>30</td>\n",
       "      <td>45</td>\n",
       "      <td>3</td>\n",
       "      <td>4</td>\n",
       "      <td>10</td>\n",
       "      <td>0</td>\n",
       "      <td>1</td>\n",
       "      <td>0</td>\n",
       "      <td>0</td>\n",
       "      <td>0</td>\n",
       "      <td>1</td>\n",
       "      <td>0</td>\n",
       "    </tr>\n",
       "    <tr>\n",
       "      <th>1</th>\n",
       "      <td>1000</td>\n",
       "      <td>30</td>\n",
       "      <td>50</td>\n",
       "      <td>3</td>\n",
       "      <td>4</td>\n",
       "      <td>10</td>\n",
       "      <td>1</td>\n",
       "      <td>0</td>\n",
       "      <td>0</td>\n",
       "      <td>0</td>\n",
       "      <td>1</td>\n",
       "      <td>0</td>\n",
       "      <td>0</td>\n",
       "    </tr>\n",
       "    <tr>\n",
       "      <th>2</th>\n",
       "      <td>1000</td>\n",
       "      <td>30</td>\n",
       "      <td>33</td>\n",
       "      <td>3</td>\n",
       "      <td>4</td>\n",
       "      <td>10</td>\n",
       "      <td>1</td>\n",
       "      <td>0</td>\n",
       "      <td>0</td>\n",
       "      <td>0</td>\n",
       "      <td>1</td>\n",
       "      <td>0</td>\n",
       "      <td>0</td>\n",
       "    </tr>\n",
       "    <tr>\n",
       "      <th>3</th>\n",
       "      <td>1000</td>\n",
       "      <td>15</td>\n",
       "      <td>27</td>\n",
       "      <td>3</td>\n",
       "      <td>3</td>\n",
       "      <td>9</td>\n",
       "      <td>0</td>\n",
       "      <td>0</td>\n",
       "      <td>0</td>\n",
       "      <td>1</td>\n",
       "      <td>0</td>\n",
       "      <td>1</td>\n",
       "      <td>0</td>\n",
       "    </tr>\n",
       "    <tr>\n",
       "      <th>4</th>\n",
       "      <td>1000</td>\n",
       "      <td>30</td>\n",
       "      <td>28</td>\n",
       "      <td>4</td>\n",
       "      <td>5</td>\n",
       "      <td>10</td>\n",
       "      <td>0</td>\n",
       "      <td>0</td>\n",
       "      <td>0</td>\n",
       "      <td>1</td>\n",
       "      <td>1</td>\n",
       "      <td>0</td>\n",
       "      <td>0</td>\n",
       "    </tr>\n",
       "  </tbody>\n",
       "</table>\n",
       "</div>"
      ],
      "text/plain": [
       "   Principal  terms  age  effective_day  due_day  due_month  bachelor_degree  \\\n",
       "0       1000     30   45              3        4         10                0   \n",
       "1       1000     30   50              3        4         10                1   \n",
       "2       1000     30   33              3        4         10                1   \n",
       "3       1000     15   27              3        3          9                0   \n",
       "4       1000     30   28              4        5         10                0   \n",
       "\n",
       "   High School or Below  Master or Above  in_college  female  male  status  \n",
       "0                     1                0           0       0     1       0  \n",
       "1                     0                0           0       1     0       0  \n",
       "2                     0                0           0       1     0       0  \n",
       "3                     0                0           1       0     1       0  \n",
       "4                     0                0           1       1     0       0  "
      ]
     },
     "execution_count": 80,
     "metadata": {},
     "output_type": "execute_result"
    }
   ],
   "source": [
    "#drop the categorical columns or any unecessary columns such as response vector column\n",
    "df_numeric['status'] = df_numeric.loan_status.map({'PAIDOFF':0,'COLLECTION_PAIDOFF':0, 'COLLECTION':1})\n",
    "df_numeric.drop(['Loan_ID','loan_status','effective_date','due_date','paid_off_time','Gender','education','past_due_days'], axis=1, inplace=True)\n",
    "df_numeric.rename(columns = {'Bechalor':'bachelor_degree','college':'in_college'}, inplace=True)\n",
    "df_numeric.head()"
   ]
  },
  {
   "cell_type": "code",
   "execution_count": 81,
   "metadata": {},
   "outputs": [
    {
     "name": "stdout",
     "output_type": "stream",
     "text": [
      "<class 'numpy.ndarray'>\n",
      "(500,)\n",
      "<class 'numpy.ndarray'>\n",
      "(500, 12)\n"
     ]
    }
   ],
   "source": [
    "y = df_numeric['status'].values\n",
    "print(type(y))\n",
    "print(y.shape)\n",
    "x_cols = ['Principal','terms','effective_day','due_day','due_month','age','bachelor_degree','High School or Below','Master or Above','in_college','female','male']\n",
    "X = df_numeric[x_cols].as_matrix()\n",
    "print(type(X))\n",
    "print(X.shape)"
   ]
  },
  {
   "cell_type": "code",
   "execution_count": 82,
   "metadata": {},
   "outputs": [
    {
     "name": "stdout",
     "output_type": "stream",
     "text": [
      "(350, 12) (150, 12) (350,) (150,)\n"
     ]
    }
   ],
   "source": [
    "#split data into a train and test set,create a decision tree classifier object\n",
    "from sklearn.model_selection import train_test_split\n",
    "from sklearn.tree import DecisionTreeClassifier\n",
    "dec_tre = DecisionTreeClassifier()\n",
    "X_train, X_test, y_train, y_test = train_test_split(X,y,test_size = 0.3,random_state=4)\n",
    "#train decision tree classifier\n",
    "dec_tre.fit(X_train,y_train)\n",
    "print(X_train.shape, X_test.shape, y_train.shape, y_test.shape)"
   ]
  },
  {
   "cell_type": "code",
   "execution_count": 83,
   "metadata": {},
   "outputs": [
    {
     "name": "stdout",
     "output_type": "stream",
     "text": [
      "Accuracy: 0.78\n"
     ]
    }
   ],
   "source": [
    "#predict the response for the test dataset and print the decision tree model accuracy\n",
    "from sklearn import metrics\n",
    "dec_tre_pred = dec_tre.predict(X_test)\n",
    "print(\"Accuracy:\",metrics.accuracy_score(y_test,dec_tre_pred))"
   ]
  },
  {
   "cell_type": "code",
   "execution_count": 84,
   "metadata": {},
   "outputs": [
    {
     "name": "stdout",
     "output_type": "stream",
     "text": [
      "Average cross-validation score: 0.73\n"
     ]
    }
   ],
   "source": [
    "#perform cross-validation on decision tree model\n",
    "from sklearn.model_selection import cross_val_score\n",
    "from sklearn.feature_selection import SelectFromModel\n",
    "scores = cross_val_score(dec_tre, X, y, cv=10)\n",
    "print(\"Average cross-validation score: {:.2f}\".format(scores.mean()))"
   ]
  },
  {
   "cell_type": "code",
   "execution_count": 85,
   "metadata": {},
   "outputs": [
    {
     "name": "stdout",
     "output_type": "stream",
     "text": [
      "{'max_depth': 1, 'random_state': 1}\n",
      "0.8\n"
     ]
    }
   ],
   "source": [
    "from sklearn.model_selection import GridSearchCV\n",
    "param_grid = {\n",
    "    'random_state': [1,5,42],\n",
    "    'max_depth': [1,10,100]}\n",
    "dec_tre_cv = GridSearchCV(dec_tre,param_grid,cv=10)\n",
    "dec_tre_cv.fit(X,y)\n",
    "print(dec_tre_cv.best_params_)\n",
    "print(dec_tre_cv.best_score_)"
   ]
  },
  {
   "cell_type": "code",
   "execution_count": 86,
   "metadata": {},
   "outputs": [
    {
     "name": "stdout",
     "output_type": "stream",
     "text": [
      "8\n",
      "Index(['terms', 'age', 'effective_day', 'due_day', 'due_month',\n",
      "       'bachelor_degree', 'female', 'male'],\n",
      "      dtype='object')\n"
     ]
    }
   ],
   "source": [
    "#check if the correct features were selected\n",
    "df_feature = df_numeric.drop(['status'], axis=1)\n",
    "from sklearn.feature_selection import SelectFromModel\n",
    "sel = SelectFromModel(dec_tre, threshold = .03)\n",
    "sel.fit(X,y)\n",
    "sel.get_support(indices=True)\n",
    "selected_feat=df_feature.columns[(sel.get_support())]\n",
    "print(len(selected_feat))\n",
    "print(selected_feat)"
   ]
  },
  {
   "cell_type": "code",
   "execution_count": 87,
   "metadata": {},
   "outputs": [
    {
     "name": "stdout",
     "output_type": "stream",
     "text": [
      "Decision Tree Accuracy on best selected features: 0.826666666667\n",
      "Average Decision Tree cross-validation score on best selected features: 0.80\n"
     ]
    }
   ],
   "source": [
    "x2_cols = ['terms', 'age', 'effective_day','due_day', 'due_month', 'bachelor_degree','in_college', 'female']\n",
    "X2 = df_numeric[x2_cols].as_matrix()\n",
    "dec_tre = DecisionTreeClassifier(max_depth=1)\n",
    "X2_train, X2_test, y_train, y_test = train_test_split(X2,y,test_size = 0.3,random_state=4)\n",
    "dec_tre.fit(X2_train,y_train)\n",
    "dec_tre_pred = dec_tre.predict(X2_test)\n",
    "print(\"Decision Tree Accuracy on best selected features:\",metrics.accuracy_score(y_test,dec_tre_pred))\n",
    "scores = cross_val_score(dec_tre, X2, y, cv=10)\n",
    "print(\"Average Decision Tree cross-validation score on best selected features: {:.2f}\".format(scores.mean()))"
   ]
  },
  {
   "cell_type": "code",
   "execution_count": 88,
   "metadata": {},
   "outputs": [
    {
     "name": "stdout",
     "output_type": "stream",
     "text": [
      "[[124   0]\n",
      " [ 26   0]]\n",
      "              precision    recall  f1-score   support\n",
      "\n",
      "           0       0.83      1.00      0.91       124\n",
      "           1       0.00      0.00      0.00        26\n",
      "\n",
      "    accuracy                           0.83       150\n",
      "   macro avg       0.41      0.50      0.45       150\n",
      "weighted avg       0.68      0.83      0.75       150\n",
      "\n",
      "AUC:  0.500\n"
     ]
    }
   ],
   "source": [
    "#perform confusion matrix on decision tree classifier\n",
    "from sklearn.metrics import confusion_matrix\n",
    "from sklearn.metrics import classification_report\n",
    "from sklearn.metrics import roc_curve\n",
    "from sklearn.metrics import roc_auc_score\n",
    "dec_tre.fit(X2_train, y_train)\n",
    "dec_tre_pred = dec_tre.predict(X2_test)\n",
    "conf_matrix_dec_tre = confusion_matrix(y_test, dec_tre_pred)\n",
    "print(conf_matrix_dec_tre)\n",
    "print(classification_report(y_test,dec_tre_pred))\n",
    "auc = roc_auc_score(y_test,dec_tre_pred)\n",
    "print('AUC: % .3f' % auc)"
   ]
  },
  {
   "cell_type": "code",
   "execution_count": 73,
   "metadata": {},
   "outputs": [
    {
     "name": "stdout",
     "output_type": "stream",
     "text": [
      "Accuracy: 0.713333333333\n",
      "CV_accuracy: 0.656\n"
     ]
    }
   ],
   "source": [
    "#import gaussian naive bayes model\n",
    "from sklearn.naive_bayes import GaussianNB\n",
    "gnb = GaussianNB()\n",
    "X2_train, X2_test, y_train, y_test = train_test_split(X2,y,test_size = 0.3,random_state=4)\n",
    "gnb.fit(X2_train,y_train)\n",
    "gnb_pred = gnb.predict(X2_test)\n",
    "print(\"Accuracy:\",metrics.accuracy_score(y_test, gnb_pred))\n",
    "score_gnb = cross_val_score(gnb, X2, y,cv=10)\n",
    "print(\"CV_accuracy:\", score_gnb.mean())"
   ]
  },
  {
   "cell_type": "code",
   "execution_count": 74,
   "metadata": {},
   "outputs": [
    {
     "name": "stdout",
     "output_type": "stream",
     "text": [
      "[[92 32]\n",
      " [11 15]]\n",
      "              precision    recall  f1-score   support\n",
      "\n",
      "           0       0.89      0.74      0.81       124\n",
      "           1       0.32      0.58      0.41        26\n",
      "\n",
      "    accuracy                           0.71       150\n",
      "   macro avg       0.61      0.66      0.61       150\n",
      "weighted avg       0.79      0.71      0.74       150\n",
      "\n"
     ]
    }
   ],
   "source": [
    "#calculate confusion matrix for Gaussian naive bayes\n",
    "gnb.fit(X2_train, y_train)\n",
    "gnb_pred = gnb.predict(X2_test)\n",
    "conf_matrix_gnb = confusion_matrix(y_test, gnb_pred)\n",
    "print(conf_matrix_gnb)\n",
    "print(classification_report(y_test,gnb_pred))"
   ]
  },
  {
   "cell_type": "code",
   "execution_count": 90,
   "metadata": {},
   "outputs": [
    {
     "name": "stdout",
     "output_type": "stream",
     "text": [
      "AUC:  0.659\n"
     ]
    }
   ],
   "source": [
    "#the classification report here looks better than the other models therefore take a look at the auc curve \n",
    "auc = roc_auc_score(y_test,gnb_pred)\n",
    "print('AUC: % .3f' % auc)"
   ]
  },
  {
   "cell_type": "code",
   "execution_count": 91,
   "metadata": {},
   "outputs": [
    {
     "name": "stdout",
     "output_type": "stream",
     "text": [
      "Accuracy: 0.786666666667\n",
      "CV_accuracy: 0.734\n"
     ]
    }
   ],
   "source": [
    "#Import Random Forest Model\n",
    "from sklearn.ensemble import RandomForestClassifier\n",
    "X2_train, X2_test, y_train, y_test = train_test_split(X2, y, test_size=0.3, random_state=4) \n",
    "rfc=RandomForestClassifier(n_estimators=100)\n",
    "rfc.fit(X2_train,y_train)\n",
    "rfc_pred=rfc.predict(X2_test)\n",
    "print(\"Accuracy:\",metrics.accuracy_score(y_test, rfc_pred))\n",
    "score_rfc = cross_val_score(rfc, X2, y,cv=10)\n",
    "print(\"CV_accuracy:\", score_rfc.mean())"
   ]
  },
  {
   "cell_type": "code",
   "execution_count": 92,
   "metadata": {},
   "outputs": [
    {
     "name": "stdout",
     "output_type": "stream",
     "text": [
      "{'max_depth': 1, 'min_samples_leaf': 1, 'min_samples_split': 2, 'n_estimators': 10, 'random_state': 1}\n",
      "0.8\n"
     ]
    }
   ],
   "source": [
    "from sklearn.model_selection import GridSearchCV\n",
    "param_grid = {\n",
    "    'random_state': [1,5,42],\n",
    "    'max_depth': [1,10,100],\n",
    "'n_estimators':[10,100,200], 'min_samples_leaf':[1,2,5], 'min_samples_split':[2,5,10]}\n",
    "rfc_cv = GridSearchCV(rfc,param_grid,cv=4)\n",
    "rfc_cv.fit(X,y)\n",
    "print(rfc_cv.best_params_)\n",
    "print(rfc_cv.best_score_)"
   ]
  },
  {
   "cell_type": "code",
   "execution_count": 93,
   "metadata": {},
   "outputs": [
    {
     "name": "stdout",
     "output_type": "stream",
     "text": [
      "Accuracy: 0.826666666667\n",
      "CV_accuracy: 0.8\n"
     ]
    }
   ],
   "source": [
    "#utilize tuned hyperparameters\n",
    "X2_train, X2_test, y_train, y_test = train_test_split(X2, y, test_size=0.3, random_state=4) \n",
    "rfc=RandomForestClassifier(max_depth= 1, min_samples_leaf= 1, min_samples_split = 2, n_estimators = 10)\n",
    "rfc.fit(X2_train,y_train)\n",
    "rfc_pred=rfc.predict(X2_test)\n",
    "print(\"Accuracy:\",metrics.accuracy_score(y_test, rfc_pred))\n",
    "score_rfc = cross_val_score(rfc, X2, y,cv=10)\n",
    "print(\"CV_accuracy:\", score_rfc.mean())"
   ]
  },
  {
   "cell_type": "code",
   "execution_count": 94,
   "metadata": {},
   "outputs": [
    {
     "name": "stdout",
     "output_type": "stream",
     "text": [
      "[[124   0]\n",
      " [ 26   0]]\n",
      "              precision    recall  f1-score   support\n",
      "\n",
      "           0       0.83      1.00      0.91       124\n",
      "           1       0.00      0.00      0.00        26\n",
      "\n",
      "    accuracy                           0.83       150\n",
      "   macro avg       0.41      0.50      0.45       150\n",
      "weighted avg       0.68      0.83      0.75       150\n",
      "\n",
      "AUC:  0.500\n"
     ]
    }
   ],
   "source": [
    "#calculate precision and recall for random forest classifier\n",
    "rfc.fit(X2_train, y_train)\n",
    "rfc_pred = rfc.predict(X2_test)\n",
    "conf_matrix_rfc = confusion_matrix(y_test, rfc_pred)\n",
    "print(conf_matrix_rfc)\n",
    "print(classification_report(y_test,rfc_pred))\n",
    "from sklearn.metrics import roc_curve\n",
    "from sklearn.metrics import roc_auc_score\n",
    "auc = roc_auc_score(y_test,rfc_pred)\n",
    "print('AUC: % .3f' % auc)"
   ]
  },
  {
   "cell_type": "code",
   "execution_count": 95,
   "metadata": {},
   "outputs": [
    {
     "name": "stdout",
     "output_type": "stream",
     "text": [
      "knn test accuracy with all features is: 0.806666666667\n",
      "Average knn classifier cross-validation score on original features: 0.74\n"
     ]
    }
   ],
   "source": [
    "#import kneighbors classifier\n",
    "from sklearn.neighbors import KNeighborsClassifier\n",
    "knn = KNeighborsClassifier()\n",
    "X2_train, X2_test, y_train, y_test = train_test_split(X2,y,test_size = 0.3,random_state=4)\n",
    "knn.fit(X2_train,y_train)\n",
    "knn_pred = knn.predict(X2_test)\n",
    "print(\"knn test accuracy with all features is:\",metrics.accuracy_score(y_test, knn_pred))\n",
    "#also check cross validation score\n",
    "scores = cross_val_score(knn,X2,y,cv=10,scoring='accuracy')\n",
    "print(\"Average knn classifier cross-validation score on original features: {:.2f}\".format(scores.mean()))"
   ]
  },
  {
   "cell_type": "code",
   "execution_count": 96,
   "metadata": {},
   "outputs": [
    {
     "name": "stdout",
     "output_type": "stream",
     "text": [
      "[0.71399999999999997, 0.76000000000000001, 0.7340000000000001, 0.75600000000000001, 0.7380000000000001, 0.77000000000000002, 0.76000000000000001, 0.77600000000000002, 0.76600000000000013, 0.78400000000000003, 0.77200000000000002, 0.77000000000000002, 0.76600000000000001, 0.77200000000000002, 0.77600000000000002, 0.78199999999999992, 0.77400000000000002, 0.78200000000000003, 0.78400000000000003, 0.79200000000000004, 0.78600000000000003, 0.80000000000000004, 0.79200000000000004, 0.80000000000000004, 0.79800000000000004]\n"
     ]
    },
    {
     "data": {
      "text/plain": [
       "Text(0,0.5,'Cross-Validation accuracy')"
      ]
     },
     "execution_count": 96,
     "metadata": {},
     "output_type": "execute_result"
    },
    {
     "data": {
      "image/png": "[encoded data removed]",
      "text/plain": [
       "<Figure size 432x288 with 1 Axes>"
      ]
     },
     "metadata": {},
     "output_type": "display_data"
    }
   ],
   "source": [
    "#search for the optimal value for k to improve the knn model\n",
    "k_range = range(1,26)\n",
    "k_scores = []\n",
    "for k in k_range:\n",
    "    knn = KNeighborsClassifier(n_neighbors=k)\n",
    "    scores = cross_val_score(knn,X2,y,cv=10,scoring='accuracy')\n",
    "    k_scores.append(scores.mean())\n",
    "print(k_scores)\n",
    "#plot value of k for KNN vs cross-validation accuracy in order to pick optimum k\n",
    "import matplotlib.pyplot as plt\n",
    "%matplotlib inline\n",
    "plt.plot(k_range,k_scores)\n",
    "plt.xlabel(\"Value of K for KNN\")\n",
    "plt.ylabel(\"Cross-Validation accuracy\")"
   ]
  },
  {
   "cell_type": "code",
   "execution_count": 97,
   "metadata": {},
   "outputs": [
    {
     "name": "stdout",
     "output_type": "stream",
     "text": [
      "knn test accuracy with optimum k value: 0.826666666667\n",
      "knn cross_val_score with optimum k value: 0.8\n"
     ]
    }
   ],
   "source": [
    "#utilize optimum k and compare KNN model with decision tree classifier accuracy;also compare against cross-validation\n",
    "knn = KNeighborsClassifier(n_neighbors=22)\n",
    "X2_train, X2_test, y_train, y_test = train_test_split(X2,y,test_size = 0.3,random_state=4)\n",
    "knn.fit(X2_train,y_train)\n",
    "knn_pred = knn.predict(X2_test)\n",
    "print(\"knn test accuracy with optimum k value:\",metrics.accuracy_score(y_test, knn_pred))\n",
    "print(\"knn cross_val_score with optimum k value:\",cross_val_score(knn,X2,y,cv=10,scoring='accuracy').mean())    "
   ]
  },
  {
   "cell_type": "code",
   "execution_count": 98,
   "metadata": {},
   "outputs": [
    {
     "name": "stdout",
     "output_type": "stream",
     "text": [
      "[[124   0]\n",
      " [ 26   0]]\n",
      "              precision    recall  f1-score   support\n",
      "\n",
      "           0       0.83      1.00      0.91       124\n",
      "           1       0.00      0.00      0.00        26\n",
      "\n",
      "    accuracy                           0.83       150\n",
      "   macro avg       0.41      0.50      0.45       150\n",
      "weighted avg       0.68      0.83      0.75       150\n",
      "\n",
      "AUC:  0.500\n"
     ]
    }
   ],
   "source": [
    "knn.fit(X2_train, y_train)\n",
    "knn_pred = knn.predict(X2_test)\n",
    "conf_matrix_knn = confusion_matrix(y_test, knn_pred)\n",
    "print(conf_matrix_knn)\n",
    "print(classification_report(y_test,knn_pred))\n",
    "auc = roc_auc_score(y_test,knn_pred)\n",
    "print('AUC: % .3f' % auc)"
   ]
  },
  {
   "cell_type": "code",
   "execution_count": 99,
   "metadata": {},
   "outputs": [
    {
     "name": "stdout",
     "output_type": "stream",
     "text": [
      "Test_Accuracy: 0.826666666667\n",
      "[ 0.8  0.8  0.8  0.8  0.8  0.8  0.8  0.8  0.8  0.8]\n",
      "CV_accuracy: 0.8\n"
     ]
    }
   ],
   "source": [
    "#utilize SVM classifier and compare model prediction accuracy \n",
    "from sklearn.svm import SVC\n",
    "X_train, X_test, y_train, y_test = train_test_split(X, y, test_size=0.3,random_state=4)\n",
    "svmc = SVC(kernel='linear',cache_size=5)\n",
    "svmc.fit(X_train, y_train)\n",
    "svmc_pred = svmc.predict(X_test)\n",
    "print(\"Test_Accuracy:\",metrics.accuracy_score(y_test, svmc_pred))\n",
    "score_svmc = cross_val_score(svmc, X, y,cv=10)\n",
    "print(score_svmc)\n",
    "print(\"CV_accuracy:\", score_svmc.mean())"
   ]
  },
  {
   "cell_type": "code",
   "execution_count": 100,
   "metadata": {},
   "outputs": [
    {
     "name": "stdout",
     "output_type": "stream",
     "text": [
      "[[124   0]\n",
      " [ 26   0]]\n",
      "              precision    recall  f1-score   support\n",
      "\n",
      "           0       0.83      1.00      0.91       124\n",
      "           1       0.00      0.00      0.00        26\n",
      "\n",
      "    accuracy                           0.83       150\n",
      "   macro avg       0.41      0.50      0.45       150\n",
      "weighted avg       0.68      0.83      0.75       150\n",
      "\n",
      "AUC:  0.500\n"
     ]
    }
   ],
   "source": [
    "#calculate the confusion matrix for SVC\n",
    "svmc.fit(X_train, y_train)\n",
    "svmc_pred = svmc.predict(X_test)\n",
    "conf_matrix_svmc = confusion_matrix(y_test, svmc_pred)\n",
    "print(conf_matrix_svmc)\n",
    "print(classification_report(y_test,svmc_pred))\n",
    "auc = roc_auc_score(y_test,svmc_pred)\n",
    "print('AUC: % .3f' % auc)"
   ]
  },
  {
   "cell_type": "code",
   "execution_count": 101,
   "metadata": {},
   "outputs": [
    {
     "name": "stderr",
     "output_type": "stream",
     "text": [
      "Using TensorFlow backend.\n"
     ]
    },
    {
     "name": "stdout",
     "output_type": "stream",
     "text": [
      "Epoch 1/10\n",
      "500/500 [==============================] - 0s 860us/step - loss: 3.2375 - acc: 0.8000\n",
      "Epoch 2/10\n",
      "500/500 [==============================] - 0s 156us/step - loss: 3.2236 - acc: 0.8000\n",
      "Epoch 3/10\n",
      "500/500 [==============================] - 0s 146us/step - loss: 3.2236 - acc: 0.8000\n",
      "Epoch 4/10\n",
      "500/500 [==============================] - 0s 143us/step - loss: 3.2236 - acc: 0.8000\n",
      "Epoch 5/10\n",
      "500/500 [==============================] - 0s 157us/step - loss: 3.2236 - acc: 0.8000\n",
      "Epoch 6/10\n",
      "500/500 [==============================] - 0s 139us/step - loss: 3.2236 - acc: 0.8000\n",
      "Epoch 7/10\n",
      "500/500 [==============================] - 0s 138us/step - loss: 3.2236 - acc: 0.8000\n",
      "Epoch 8/10\n",
      "500/500 [==============================] - 0s 142us/step - loss: 3.2236 - acc: 0.8000\n",
      "Epoch 9/10\n",
      "500/500 [==============================] - 0s 147us/step - loss: 3.2236 - acc: 0.8000\n",
      "Epoch 10/10\n",
      "500/500 [==============================] - 0s 144us/step - loss: 3.2236 - acc: 0.8000\n",
      "500/500 [==============================] - 0s 115us/step\n",
      "\n",
      "acc: 80.00%\n"
     ]
    }
   ],
   "source": [
    "#import keras sequential model in order to see how deep learning model compares\n",
    "from keras.models import Sequential\n",
    "from keras.layers import Dense\n",
    "import numpy\n",
    "from keras.optimizers import SGD\n",
    "numpy.random.seed(4)\n",
    "model = Sequential()\n",
    "model.add(Dense(1,input_dim=12, init='zero', activation='sigmoid'))\n",
    "model.compile(loss='binary_crossentropy', optimizer=SGD(lr=.0001), metrics=['accuracy'])\n",
    "model.fit(X, y, epochs=10, batch_size=10,shuffle=False, verbose=1)\n",
    "scores = model.evaluate(X, y)\n",
    "print(\"\\n%s: %.2f%%\" % (model.metrics_names[1], scores[1]*100))"
   ]
  },
  {
   "cell_type": "markdown",
   "metadata": {},
   "source": [
    "### The machine learning models with the highest test accuracy of 83% are the:SVM classifier, knn classifier, Random forest classifier, and decision tree classifier.  Even though the Gaussian Naive Bayes classifier had a lower test accuracy at 71%, it is a better model for loan default classification since it has the lowest false negatives of all the machine learning algorithms.  While the other machine learning models had 26 false negatives and an AUC of 50%, the Gaussian Naive Bayes classifier only had 11 false negatives and an AUC of 66%.  False negatives in this dataset indicates those classified as having paid their loan but have actually not paid their loan. Keeping the false negatives low is important for loan default prediction.  Out of the total 12 features, the following 7 features ended up to be the strongest features for loan default classification: 'terms', 'age', 'effective_day','due_day', 'due_month', 'bachelor_degree','in_college', and 'female'. Finally, In this dataset, the target response vector was grouped into not paid and paid and the paid group included those that had intially defaulted on their loan but then paid after collections. Thus, another future model could take a look at the two groups of paid and not paid and not include the group that intially defaulted in order to see if the accuracy, precision and recall of the model improves."
   ]
  },
  {
   "cell_type": "code",
   "execution_count": null,
   "metadata": {},
   "outputs": [],
   "source": []
  }
 ],
 "metadata": {
  "kernelspec": {
   "display_name": "Python 3",
   "language": "python",
   "name": "python3"
  },
  "language_info": {
   "codemirror_mode": {
    "name": "ipython",
    "version": 3
   },
   "file_extension": ".py",
   "mimetype": "text/x-python",
   "name": "python",
   "nbconvert_exporter": "python",
   "pygments_lexer": "ipython3",
   "version": "3.6.5"
  }
 },
 "nbformat": 4,
 "nbformat_minor": 2
}
